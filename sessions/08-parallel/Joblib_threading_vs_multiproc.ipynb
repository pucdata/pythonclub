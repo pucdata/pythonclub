{
 "cells": [
  {
   "cell_type": "code",
   "execution_count": 2,
   "metadata": {
    "collapsed": false
   },
   "outputs": [],
   "source": [
    "from joblib import Parallel, delayed\n",
    "import math,sys,time\n",
    "\n",
    "def square_int(n):\n",
    "    return sum([x for x in range (1,n)])\n",
    "    "
   ]
  },
  {
   "cell_type": "code",
   "execution_count": 3,
   "metadata": {
    "collapsed": false
   },
   "outputs": [
    {
     "name": "stdout",
     "output_type": "stream",
     "text": [
      "[499500, 500500, 501501, 502503, 503506, 504510, 505515, 506521, 507528, 508536]\n"
     ]
    }
   ],
   "source": [
    "results = []\n",
    "for i in range(1000,1010):\n",
    "    results.append(square_int(i))\n",
    "print results"
   ]
  },
  {
   "cell_type": "code",
   "execution_count": 12,
   "metadata": {
    "collapsed": false
   },
   "outputs": [
    {
     "name": "stdout",
     "output_type": "stream",
     "text": [
      "[49999995000000, 50000005000000, 50000015000001, 50000025000003, 50000035000006, 50000045000010, 50000055000015, 50000065000021, 50000075000028, 50000085000036]\n",
      "Time elapsed:  21.8465940952 s\n"
     ]
    }
   ],
   "source": [
    "from joblib import Parallel, delayed\n",
    "\n",
    "start_time = time.time()\n",
    "results = []\n",
    "results = Parallel(n_jobs= -1, backend=\"threading\")(delayed(square_int)(n) for n in range(10000000,10000010))\n",
    "                                                                                          \n",
    "print results\n",
    "print \"Time elapsed: \", time.time() - start_time, \"s\"\n"
   ]
  },
  {
   "cell_type": "code",
   "execution_count": 11,
   "metadata": {
    "collapsed": false
   },
   "outputs": [
    {
     "name": "stdout",
     "output_type": "stream",
     "text": [
      "[49999995000000, 50000005000000, 50000015000001, 50000025000003, 50000035000006, 50000045000010, 50000055000015, 50000065000021, 50000075000028, 50000085000036]\n",
      "Time elapsed:  5.18976211548 s\n"
     ]
    }
   ],
   "source": [
    "from joblib import Parallel, delayed\n",
    "\n",
    "start_time = time.time()\n",
    "results = []\n",
    "#results = Parallel(n_jobs= -1, backend=\"multiprocessing\")(delayed(square_int)(n) for n in range(10000000,10000010))\n",
    "results = Parallel(n_jobs= -1, backend=\"multiprocessing\")(delayed(square_int)(n) for n in range(10000000,10000010))\n",
    "\n",
    "print results\n",
    "print \"Time elapsed: \", time.time() - start_time, \"s\"\n"
   ]
  },
  {
   "cell_type": "code",
   "execution_count": null,
   "metadata": {
    "collapsed": true
   },
   "outputs": [],
   "source": []
  }
 ],
 "metadata": {
  "kernelspec": {
   "display_name": "Python 2",
   "language": "python",
   "name": "python2"
  },
  "language_info": {
   "codemirror_mode": {
    "name": "ipython",
    "version": 2
   },
   "file_extension": ".py",
   "mimetype": "text/x-python",
   "name": "python",
   "nbconvert_exporter": "python",
   "pygments_lexer": "ipython2",
   "version": "2.7.13"
  }
 },
 "nbformat": 4,
 "nbformat_minor": 0
}
